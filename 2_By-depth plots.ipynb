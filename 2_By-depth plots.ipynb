{
 "cells": [
  {
   "cell_type": "markdown",
   "metadata": {},
   "source": [
    "# Plots by depth\n",
    "\n",
    "Evaluate the distribution and attributes of features by depth."
   ]
  },
  {
   "cell_type": "code",
   "execution_count": 12,
   "metadata": {},
   "outputs": [],
   "source": [
    "import numpy as np\n",
    "import pandas as pd\n",
    "import matplotlib.pyplot as plt\n",
    "import seaborn as sns"
   ]
  },
  {
   "cell_type": "markdown",
   "metadata": {},
   "source": [
    "## 0. Import data and define constants"
   ]
  },
  {
   "cell_type": "code",
   "execution_count": 13,
   "metadata": {},
   "outputs": [
    {
     "name": "stdout",
     "output_type": "stream",
     "text": [
      "<class 'pandas.core.frame.DataFrame'>\n",
      "RangeIndex: 442 entries, 0 to 441\n",
      "Data columns (total 8 columns):\n",
      " #   Column       Non-Null Count  Dtype  \n",
      "---  ------       --------------  -----  \n",
      " 0   depth_m      442 non-null    float64\n",
      " 1   dip_az       442 non-null    float64\n",
      " 2   dip          442 non-null    float64\n",
      " 3   aperture_mm  442 non-null    float64\n",
      " 4   type         442 non-null    object \n",
      " 5   strike       442 non-null    float64\n",
      " 6   lithology    442 non-null    object \n",
      " 7   depth_ft     442 non-null    float64\n",
      "dtypes: float64(6), object(2)\n",
      "memory usage: 27.8+ KB\n"
     ]
    }
   ],
   "source": [
    "picks = pd.read_csv('1_Pre-processed data.csv')\n",
    "picks.info()"
   ]
  },
  {
   "cell_type": "code",
   "execution_count": 14,
   "metadata": {},
   "outputs": [
    {
     "data": {
      "text/plain": [
       "array(['Conductive, HC', 'Conductive, LC', 'Bed boundary'], dtype=object)"
      ]
     },
     "execution_count": 14,
     "metadata": {},
     "output_type": "execute_result"
    }
   ],
   "source": [
    "picks.type.unique()"
   ]
  },
  {
   "cell_type": "code",
   "execution_count": 15,
   "metadata": {},
   "outputs": [
    {
     "name": "stdout",
     "output_type": "stream",
     "text": [
      "<class 'pandas.core.frame.DataFrame'>\n",
      "Int64Index: 242 entries, 0 to 241\n",
      "Data columns (total 8 columns):\n",
      " #   Column       Non-Null Count  Dtype  \n",
      "---  ------       --------------  -----  \n",
      " 0   depth_m      242 non-null    float64\n",
      " 1   dip_az       242 non-null    float64\n",
      " 2   dip          242 non-null    float64\n",
      " 3   aperture_mm  242 non-null    float64\n",
      " 4   type         242 non-null    object \n",
      " 5   strike       242 non-null    float64\n",
      " 6   lithology    242 non-null    object \n",
      " 7   depth_ft     242 non-null    float64\n",
      "dtypes: float64(6), object(2)\n",
      "memory usage: 17.0+ KB\n"
     ]
    }
   ],
   "source": [
    "fractures = picks[(picks['type'] == 'Conductive, HC') | (picks['type'] == 'Conductive, LC')]\n",
    "fractures.info()"
   ]
  },
  {
   "cell_type": "code",
   "execution_count": 16,
   "metadata": {},
   "outputs": [
    {
     "name": "stdout",
     "output_type": "stream",
     "text": [
      "<class 'pandas.core.frame.DataFrame'>\n",
      "Int64Index: 200 entries, 242 to 441\n",
      "Data columns (total 8 columns):\n",
      " #   Column       Non-Null Count  Dtype  \n",
      "---  ------       --------------  -----  \n",
      " 0   depth_m      200 non-null    float64\n",
      " 1   dip_az       200 non-null    float64\n",
      " 2   dip          200 non-null    float64\n",
      " 3   aperture_mm  200 non-null    float64\n",
      " 4   type         200 non-null    object \n",
      " 5   strike       200 non-null    float64\n",
      " 6   lithology    200 non-null    object \n",
      " 7   depth_ft     200 non-null    float64\n",
      "dtypes: float64(6), object(2)\n",
      "memory usage: 14.1+ KB\n"
     ]
    }
   ],
   "source": [
    "beds = picks[(picks['type'] == 'Bed boundary')]\n",
    "beds.info()"
   ]
  },
  {
   "cell_type": "code",
   "execution_count": 17,
   "metadata": {},
   "outputs": [
    {
     "name": "stdout",
     "output_type": "stream",
     "text": [
      "998.205751040047 500.7874002119409\n"
     ]
    }
   ],
   "source": [
    "# Use the picks DataFrame to define log top and bottom depths\n",
    "\n",
    "top_m = picks['depth_m'].min() - 1\n",
    "bot_m = picks['depth_m'].max() + 1\n",
    "\n",
    "print(bot_m, top_m)"
   ]
  },
  {
   "cell_type": "code",
   "execution_count": 32,
   "metadata": {},
   "outputs": [
    {
     "name": "stdout",
     "output_type": "stream",
     "text": [
      "<class 'pandas.core.frame.DataFrame'>\n",
      "RangeIndex: 2 entries, 0 to 1\n",
      "Data columns (total 4 columns):\n",
      " #   Column     Non-Null Count  Dtype \n",
      "---  ------     --------------  ----- \n",
      " 0   from_m     2 non-null      int64 \n",
      " 1   to_m       2 non-null      int64 \n",
      " 2   lithology  2 non-null      object\n",
      " 3   lith_num   2 non-null      int64 \n",
      "dtypes: int64(3), object(1)\n",
      "memory usage: 192.0+ bytes\n",
      "None\n"
     ]
    },
    {
     "data": {
      "text/html": [
       "<div>\n",
       "<style scoped>\n",
       "    .dataframe tbody tr th:only-of-type {\n",
       "        vertical-align: middle;\n",
       "    }\n",
       "\n",
       "    .dataframe tbody tr th {\n",
       "        vertical-align: top;\n",
       "    }\n",
       "\n",
       "    .dataframe thead th {\n",
       "        text-align: right;\n",
       "    }\n",
       "</style>\n",
       "<table border=\"1\" class=\"dataframe\">\n",
       "  <thead>\n",
       "    <tr style=\"text-align: right;\">\n",
       "      <th></th>\n",
       "      <th>from_m</th>\n",
       "      <th>to_m</th>\n",
       "      <th>lithology</th>\n",
       "      <th>lith_num</th>\n",
       "    </tr>\n",
       "  </thead>\n",
       "  <tbody>\n",
       "    <tr>\n",
       "      <th>0</th>\n",
       "      <td>500</td>\n",
       "      <td>750</td>\n",
       "      <td>Rock A</td>\n",
       "      <td>0</td>\n",
       "    </tr>\n",
       "    <tr>\n",
       "      <th>1</th>\n",
       "      <td>750</td>\n",
       "      <td>1000</td>\n",
       "      <td>Rock B</td>\n",
       "      <td>1</td>\n",
       "    </tr>\n",
       "  </tbody>\n",
       "</table>\n",
       "</div>"
      ],
      "text/plain": [
       "   from_m  to_m lithology  lith_num\n",
       "0     500   750    Rock A         0\n",
       "1     750  1000    Rock B         1"
      ]
     },
     "execution_count": 32,
     "metadata": {},
     "output_type": "execute_result"
    }
   ],
   "source": [
    "mudlog = pd.read_csv('1_pre-processed mudlog.csv')\n",
    "print(mudlog.info())\n",
    "mudlog.head()"
   ]
  },
  {
   "cell_type": "markdown",
   "metadata": {},
   "source": []
  },
  {
   "cell_type": "markdown",
   "metadata": {},
   "source": [
    "## 1. Use Seaborn to evaluate pick attributes by depth"
   ]
  },
  {
   "cell_type": "code",
   "execution_count": null,
   "metadata": {},
   "outputs": [],
   "source": [
    "# lithology"
   ]
  },
  {
   "cell_type": "code",
   "execution_count": null,
   "metadata": {},
   "outputs": [],
   "source": [
    "# fracture aperture"
   ]
  },
  {
   "cell_type": "markdown",
   "metadata": {},
   "source": [
    "## 3. Calculate frequency histograms"
   ]
  },
  {
   "cell_type": "code",
   "execution_count": 19,
   "metadata": {},
   "outputs": [],
   "source": [
    "def pick_histogram_param(depths, log_top, log_base, count_interval=10,):\n",
    "    \"\"\"\n",
    "    Derive parameters for plotting a frequency histogram that shows \n",
    "    the average number of picks per unit length (ie m or ft) within each count_interval.\n",
    "\n",
    "    Parameters:\n",
    "    - depths (array-like): A sequence of depth values for which to calculate parameters.\n",
    "    - log_top (float): The top (shallowest) depth of the log. Must be above the shallowest pick.\n",
    "    - log_base (float): The base (deepest) depth of the log. Must be below the deepest pick.\n",
    "    - count_interval (float): The desired histogram bin width. Default is 10.\n",
    "\n",
    "    Returns:\n",
    "    - tuple: A tuple containing the following parameters:\n",
    "        - bin_mids (array): Midpoints of histogram bins.\n",
    "        - bin_width (float): Width of histogram bins.\n",
    "        - counts (array): Counts of data points in each histogram bin.\n",
    "        - counts_per_bin (array): Counts per unit length for each bin.\n",
    "\n",
    "    Notes:\n",
    "    - This function calculates parameters for creating histograms where bin width\n",
    "      is controlled by log length, ensuring consistent binning for varying log depths.\n",
    "    - The `count_interval` parameter controls the width of histogram bins in linear space.\n",
    "    \"\"\"\n",
    "    n_bins = round((log_base - log_top) / count_interval)\n",
    "    if n_bins < 3: n_bins = 3\n",
    "\n",
    "    counts,bin_edges = np.histogram(depths, bins = n_bins)\n",
    "    bin_mids = 0.5 * (bin_edges[:-1] + bin_edges[1:])\n",
    "    bin_width = bin_edges[1] - bin_edges[0]\n",
    "    counts_per_bin = counts/bin_width\n",
    "\n",
    "    return bin_mids, bin_width, counts, counts_per_bin\n"
   ]
  },
  {
   "cell_type": "code",
   "execution_count": 30,
   "metadata": {},
   "outputs": [
    {
     "data": {
      "image/png": "[encoded data removed]",
      "text/plain": [
       "<Figure size 200x800 with 1 Axes>"
      ]
     },
     "metadata": {},
     "output_type": "display_data"
    }
   ],
   "source": [
    "#\n",
    "# calculate values for histogram\n",
    "#\n",
    "\n",
    "depths = fractures.depth_m.values\n",
    "\n",
    "bin_mids, bin_width, counts, counts_per_bin = pick_histogram_param(\n",
    "    depths,\n",
    "    top_m, \n",
    "    bot_m, \n",
    "    10, # length of each interval/bin\n",
    ")\n",
    "\n",
    "#\n",
    "# plot histogram\n",
    "#\n",
    "\n",
    "fig, ax1 = plt.subplots(1,1,figsize=(2,8))\n",
    "\n",
    "plt.title('Fracture Pick Frequency')\n",
    "\n",
    "ax1.barh(\n",
    "    bin_mids, \n",
    "    counts_per_bin, \n",
    "    bin_width,\n",
    "    color='k',\n",
    "    alpha=0.2,\n",
    ")\n",
    "\n",
    "ax1.set_ylim(bot_m, top_m)\n",
    "ax1.set_ylabel('Depth [m-MDRF]')\n",
    "\n",
    "ax1.xaxis.set_ticks([0,0.5,1,1.5])\n",
    "ax1.set_xlabel('Frequency [picks/m]')\n",
    "\n",
    "ax1.grid(alpha=0.5)\n",
    "\n",
    "plt.savefig(\n",
    "    '2_By-depth plots_histogram.png', \n",
    "    dpi=400, \n",
    "    bbox_inches='tight', \n",
    "    transparent=True\n",
    ")"
   ]
  },
  {
   "cell_type": "code",
   "execution_count": null,
   "metadata": {},
   "outputs": [],
   "source": []
  }
 ],
 "metadata": {
  "kernelspec": {
   "display_name": "sandpit",
   "language": "python",
   "name": "python3"
  },
  "language_info": {
   "codemirror_mode": {
    "name": "ipython",
    "version": 3
   },
   "file_extension": ".py",
   "mimetype": "text/x-python",
   "name": "python",
   "nbconvert_exporter": "python",
   "pygments_lexer": "ipython3",
   "version": "3.9.18"
  },
  "orig_nbformat": 4
 },
 "nbformat": 4,
 "nbformat_minor": 2
}
