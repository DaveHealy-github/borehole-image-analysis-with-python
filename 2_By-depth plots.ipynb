{
 "cells": [
  {
   "cell_type": "markdown",
   "metadata": {},
   "source": [
    "# Plots by depth\n",
    "\n",
    "Evaluate the distribution and attributes of features by depth."
   ]
  },
  {
   "cell_type": "code",
   "execution_count": 7,
   "metadata": {},
   "outputs": [],
   "source": [
    "import numpy as np\n",
    "import pandas as pd\n",
    "import matplotlib.pyplot as plt\n",
    "import seaborn as sns"
   ]
  },
  {
   "cell_type": "markdown",
   "metadata": {},
   "source": [
    "## 0. Import data and define constants"
   ]
  },
  {
   "cell_type": "code",
   "execution_count": 8,
   "metadata": {},
   "outputs": [
    {
     "name": "stdout",
     "output_type": "stream",
     "text": [
      "<class 'pandas.core.frame.DataFrame'>\n",
      "RangeIndex: 450 entries, 0 to 449\n",
      "Data columns (total 8 columns):\n",
      " #   Column       Non-Null Count  Dtype  \n",
      "---  ------       --------------  -----  \n",
      " 0   depth_m      450 non-null    float64\n",
      " 1   dip_az       450 non-null    float64\n",
      " 2   dip          450 non-null    float64\n",
      " 3   aperture_mm  450 non-null    float64\n",
      " 4   type         450 non-null    object \n",
      " 5   strike       450 non-null    float64\n",
      " 6   lithology    442 non-null    object \n",
      " 7   depth_ft     450 non-null    float64\n",
      "dtypes: float64(6), object(2)\n",
      "memory usage: 28.2+ KB\n"
     ]
    }
   ],
   "source": [
    "picks = pd.read_csv('1_Pre-processed data.csv')\n",
    "picks.info()"
   ]
  },
  {
   "cell_type": "code",
   "execution_count": 9,
   "metadata": {},
   "outputs": [
    {
     "data": {
      "text/plain": [
       "array(['Conductive, HC', 'Conductive, LC', 'Bed boundary'], dtype=object)"
      ]
     },
     "execution_count": 9,
     "metadata": {},
     "output_type": "execute_result"
    }
   ],
   "source": [
    "picks.type.unique()"
   ]
  },
  {
   "cell_type": "code",
   "execution_count": 11,
   "metadata": {},
   "outputs": [
    {
     "name": "stdout",
     "output_type": "stream",
     "text": [
      "<class 'pandas.core.frame.DataFrame'>\n",
      "Int64Index: 250 entries, 0 to 249\n",
      "Data columns (total 8 columns):\n",
      " #   Column       Non-Null Count  Dtype  \n",
      "---  ------       --------------  -----  \n",
      " 0   depth_m      250 non-null    float64\n",
      " 1   dip_az       250 non-null    float64\n",
      " 2   dip          250 non-null    float64\n",
      " 3   aperture_mm  250 non-null    float64\n",
      " 4   type         250 non-null    object \n",
      " 5   strike       250 non-null    float64\n",
      " 6   lithology    242 non-null    object \n",
      " 7   depth_ft     250 non-null    float64\n",
      "dtypes: float64(6), object(2)\n",
      "memory usage: 17.6+ KB\n"
     ]
    }
   ],
   "source": [
    "fractures = picks[(picks['type'] == 'Conductive, HC') | (picks['type'] == 'Conductive, LC')]\n",
    "fractures.info()"
   ]
  },
  {
   "cell_type": "code",
   "execution_count": 12,
   "metadata": {},
   "outputs": [
    {
     "name": "stdout",
     "output_type": "stream",
     "text": [
      "<class 'pandas.core.frame.DataFrame'>\n",
      "Int64Index: 200 entries, 250 to 449\n",
      "Data columns (total 8 columns):\n",
      " #   Column       Non-Null Count  Dtype  \n",
      "---  ------       --------------  -----  \n",
      " 0   depth_m      200 non-null    float64\n",
      " 1   dip_az       200 non-null    float64\n",
      " 2   dip          200 non-null    float64\n",
      " 3   aperture_mm  200 non-null    float64\n",
      " 4   type         200 non-null    object \n",
      " 5   strike       200 non-null    float64\n",
      " 6   lithology    200 non-null    object \n",
      " 7   depth_ft     200 non-null    float64\n",
      "dtypes: float64(6), object(2)\n",
      "memory usage: 14.1+ KB\n"
     ]
    }
   ],
   "source": [
    "beds = picks[(picks['type'] == 'Bed boundary')]\n",
    "beds.info()"
   ]
  },
  {
   "cell_type": "code",
   "execution_count": 14,
   "metadata": {},
   "outputs": [],
   "source": [
    "# Use the picks DataFrame to define log top and bottom depths\n",
    "\n",
    "top_m = picks['depth_m'].min() - 1\n",
    "bot_m = picks['depth_m'].max() + 1"
   ]
  },
  {
   "cell_type": "markdown",
   "metadata": {},
   "source": [
    "## 1. Use Seaborn to evaluate pick attributes by depth"
   ]
  },
  {
   "cell_type": "code",
   "execution_count": null,
   "metadata": {},
   "outputs": [],
   "source": []
  },
  {
   "cell_type": "code",
   "execution_count": null,
   "metadata": {},
   "outputs": [],
   "source": []
  },
  {
   "cell_type": "markdown",
   "metadata": {},
   "source": [
    "## 3. Calculate frequency histograms"
   ]
  },
  {
   "cell_type": "code",
   "execution_count": 15,
   "metadata": {},
   "outputs": [],
   "source": [
    "def pick_histogram_param(depths, log_top, log_base, count_interval):\n",
    "    \"\"\"\n",
    "    Calculate parameters for plotting frequency histograms where \n",
    "    the average number of picks per unit length is calculated for each bin.\n",
    "\n",
    "    Parameters:\n",
    "    - depths (array-like): A sequence of depth values for which to calculate parameters.\n",
    "    - log_top (float): The top (shallowest) depth of the log. Must be above the shallowest pick.\n",
    "    - log_base (float): The base (deepest) depth of the log. Must be below the deepest pick.\n",
    "    - count_interval (float): The desired interval for histogram bin width.\n",
    "    - bw_method_input (float, optional): Bandwidth parameter for KDE (default: 0.1).\n",
    "\n",
    "    Returns:\n",
    "    - tuple: A tuple containing the following parameters:\n",
    "        - bin_mids (array): Midpoints of histogram bins.\n",
    "        - bin_width (float): Width of histogram bins.\n",
    "        - counts (array): Counts of data points in each histogram bin.\n",
    "        - counts_per_bin (array): Counts per unit length for each bin.\n",
    "\n",
    "    Notes:\n",
    "    - This function calculates parameters for creating histograms where bin width\n",
    "      is controlled by log length, ensuring consistent binning for varying log depths.\n",
    "    - The `count_interval` parameter controls the width of histogram bins in linear space.\n",
    "    \"\"\"\n",
    "    n_bins = round((log_base - log_top) / count_interval)\n",
    "    if n_bins < 3: n_bins = 3\n",
    "\n",
    "    counts,bin_edges = np.histogram(depths, bins = n_bins)\n",
    "    bin_mids = 0.5 * (bin_edges[:-1] + bin_edges[1:])\n",
    "    bin_width = bin_edges[1] - bin_edges[0]\n",
    "    counts_per_bin = counts/bin_width\n",
    "\n",
    "    return bin_mids, bin_width, counts, counts_per_bin\n"
   ]
  },
  {
   "cell_type": "code",
   "execution_count": null,
   "metadata": {},
   "outputs": [],
   "source": [
    "# calculate values for histogram\n",
    "depth_values = fractures.depth_ft.values\n",
    "bin_mids, bin_width, counts, counts_per_bin, kernel = pick_histogram_param(\n",
    "    depth_values,\n",
    "    top_m, \n",
    "    bot_m, \n",
    "    10, # bin length\n",
    "    bw_method_input=0.1)\n",
    "\n",
    "fig, ax1 = plt.subplots(1,1,figsize=(2,12), sharey=True)\n",
    "\n",
    "plt.title('Elec Conductive Frac')\n",
    "\n",
    "ax1.barh(\n",
    "    bin_mids, \n",
    "    counts_per_bin, \n",
    "    bin_width,\n",
    "    color='k',\n",
    "    alpha=0.2,\n",
    "    label='hist raw'\n",
    "    )\n",
    "\n",
    "ax1.set_ylim(bot_depth_ft,top_depth_ft)\n",
    "ax1.set_ylabel('Depth [ft-MDRF]')\n",
    "ax1.xaxis.set_ticks([0,0.5,1,1.5])\n",
    "\n",
    "ax1.grid(alpha=0.3)\n",
    "ax1.set_xlabel('Ave frac/ft')\n",
    "\n",
    "# this locator puts ticks at regular intervals\n",
    "loc = plticker.MultipleLocator(base=100) \n",
    "ax1.yaxis.set_major_locator(loc)\n",
    "\n",
    "#ax1.axes.get_yaxis().set_ticklabels([])\n",
    "\n",
    "\n",
    "plt.savefig(\n",
    "    'Plots/River Ranch 20__3_frequency_plots_HAL_ElecConductiveFrac.png', \n",
    "    dpi=400, \n",
    "    bbox_inches='tight', \n",
    "    transparent=True\n",
    "    )"
   ]
  }
 ],
 "metadata": {
  "kernelspec": {
   "display_name": "sandpit",
   "language": "python",
   "name": "python3"
  },
  "language_info": {
   "codemirror_mode": {
    "name": "ipython",
    "version": 3
   },
   "file_extension": ".py",
   "mimetype": "text/x-python",
   "name": "python",
   "nbconvert_exporter": "python",
   "pygments_lexer": "ipython3",
   "version": "3.9.18"
  },
  "orig_nbformat": 4
 },
 "nbformat": 4,
 "nbformat_minor": 2
}
