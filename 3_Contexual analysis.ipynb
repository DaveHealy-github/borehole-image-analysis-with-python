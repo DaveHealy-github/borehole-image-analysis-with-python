{
 "cells": [
  {
   "cell_type": "markdown",
   "metadata": {},
   "source": [
    "# Attributing data can yeld insight \n",
    "\n",
    "There are many instances we would like to make accurate on-depth comparison between picks and other well data. This can be done inside log analysis software, but sometimes it is difficult to get all data onto a sensible scale with readable axis. Sometimes Python is a better tool for this.\n",
    " "
   ]
  },
  {
   "cell_type": "code",
   "execution_count": 12,
   "metadata": {},
   "outputs": [],
   "source": [
    "import pandas as pd\n",
    "import numpy as np\n",
    "import matplotlib.pyplot as plt\n",
    "import mplstereonet as mps\n",
    "from matplotlib import gridspec\n",
    "\n",
    "from utilities import *"
   ]
  },
  {
   "cell_type": "markdown",
   "metadata": {},
   "source": [
    "## 0. Import data and define constants"
   ]
  },
  {
   "cell_type": "code",
   "execution_count": 10,
   "metadata": {},
   "outputs": [],
   "source": [
    "picks = pd.read_csv('1_Pre-processed data.csv')\n",
    "beds = picks[(picks['type'] == 'Bed boundary')].copy()\n",
    "fractures = picks[(picks['type'] == 'Conductive, HC') | (picks['type'] == 'Conductive, LC')].copy()\n",
    "mudlog = pd.read_csv('1_pre-processed mudlog.csv')\n",
    "\n",
    "# these imports and boolean statements are from the second notebook, \n",
    "# so we have not included the usual checks"
   ]
  },
  {
   "cell_type": "code",
   "execution_count": 11,
   "metadata": {},
   "outputs": [],
   "source": [
    "top_m = picks['depth_m'].min() - 1\n",
    "bot_m = picks['depth_m'].max() + 1"
   ]
  },
  {
   "cell_type": "markdown",
   "metadata": {},
   "source": [
    "## 1. Plot picks by depth with categorical data\n",
    "\n"
   ]
  },
  {
   "cell_type": "code",
   "execution_count": 24,
   "metadata": {},
   "outputs": [
    {
     "data": {
      "text/plain": [
       "''"
      ]
     },
     "execution_count": 24,
     "metadata": {},
     "output_type": "execute_result"
    },
    {
     "data": {
      "image/png": "[encoded data removed]",
      "text/plain": [
       "<Figure size 300x500 with 2 Axes>"
      ]
     },
     "metadata": {},
     "output_type": "display_data"
    }
   ],
   "source": [
    "fig = plt.figure(figsize=(3, 5))\n",
    "spec = gridspec.GridSpec(ncols=2, nrows=1, width_ratios=[0.5,3], figure=fig)\n",
    "\n",
    "ax1 = fig.add_subplot(spec[0]) # geology\n",
    "ax2 = fig.add_subplot(spec[1]) # picks\n",
    "\n",
    "# Plot lithology colors\n",
    "\n",
    "\n",
    "\n",
    "for top, bot, col in zip(strat_tops, strat_bots, strat_cols):\n",
    "    ax1.axhspan(\n",
    "        top, \n",
    "        bot, \n",
    "        color = col, \n",
    "        alpha=.4,\n",
    "        zorder = 9,\n",
    "        )\n",
    "\n",
    "\n",
    "# Plot picks\n",
    "\n",
    "\n",
    "\n",
    "for ax in [ax1, ax2]:\n",
    "    ax.set_ylim(bot_m, top_m)\n",
    "\n",
    "# drop unnecessary axis labels\n",
    "ax2.axes.yaxis.set_ticklabels([])\n",
    "ax1.axes.xaxis.set_ticklabels([])\n",
    "\n",
    ";"
   ]
  },
  {
   "cell_type": "code",
   "execution_count": null,
   "metadata": {},
   "outputs": [],
   "source": []
  },
  {
   "cell_type": "markdown",
   "metadata": {},
   "source": [
    "## 2. Plot picks by depth with continuous data"
   ]
  },
  {
   "cell_type": "code",
   "execution_count": null,
   "metadata": {},
   "outputs": [],
   "source": [
    "# make synthetic continuous data\n",
    "\n",
    "num_points = 1000\n",
    "\n",
    "# Generate evenly spaced 'x' values\n",
    "measurements = np.linspace(0, 20, num_points)\n",
    "\n",
    "# Add small random noise to 'x' values\n",
    "noise_scale = 5 # Adjust the noise scale as needed\n",
    "noise = np.random.normal(0, noise_scale, num_points)\n",
    "\n",
    "# Create the 'y' values\n",
    "measurement_depth_m = np.linspace(top_m, bot_m, num_points)\n",
    "\n",
    "# Add noise to 'x' values\n",
    "x_with_noise = measurements + noise"
   ]
  },
  {
   "cell_type": "code",
   "execution_count": null,
   "metadata": {},
   "outputs": [],
   "source": [
    "fig, (ax1, ax2) = plt.subplots(1, figsize=(5,7), sharey=True)\n",
    "\n",
    "ax1.scatter(fractures.aperture_mm.values, fractures.depth_m.values, s=10, c='k', marker='o')\n",
    "\n",
    "ax2.plot(x_with_noise, measurement_depth_m, c='k', lw=0.5)\n",
    "\n",
    "line_depth = 750\n",
    "for ax in [ax1, ax2]:\n",
    "    ax.axhline(line_depth, color='tab:red', lw=2)\n",
    "    ax.axhspan(line_depth, bot_m, color='tab:red', alpha=0.1)\n",
    "\n",
    "ax1.set_ylim(bot_m, top_m)\n",
    "ax1.set_ylabel('Depth [m-MDRF]')\n",
    "ax1.set_xlabel('Fracture aperture [mm]')\n",
    "\n",
    "ax2.set_xlabel('Synthetic data')"
   ]
  }
 ],
 "metadata": {
  "kernelspec": {
   "display_name": "bhi_env",
   "language": "python",
   "name": "python3"
  },
  "language_info": {
   "codemirror_mode": {
    "name": "ipython",
    "version": 3
   },
   "file_extension": ".py",
   "mimetype": "text/x-python",
   "name": "python",
   "nbconvert_exporter": "python",
   "pygments_lexer": "ipython3",
   "version": "3.9.18"
  },
  "orig_nbformat": 4
 },
 "nbformat": 4,
 "nbformat_minor": 2
}
