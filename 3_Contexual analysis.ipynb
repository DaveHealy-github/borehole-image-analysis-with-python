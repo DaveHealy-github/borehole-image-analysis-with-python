{
 "cells": [
  {
   "cell_type": "markdown",
   "metadata": {},
   "source": [
    "# Attributing data can yeld insight \n",
    "\n",
    "Interpolate geology data onto the fractures\n",
    "Plot fractures on stereonet and by depth by geology"
   ]
  },
  {
   "cell_type": "code",
   "execution_count": 1,
   "metadata": {},
   "outputs": [],
   "source": [
    "import pandas as pd\n",
    "import numpy as np\n",
    "import matplotlib.pyplot as plt\n",
    "import mplstereonet as mps\n",
    "\n",
    "from utilities import *"
   ]
  },
  {
   "cell_type": "markdown",
   "metadata": {},
   "source": [
    "## 1. Plot picks by depth with categorical and continuous data\n",
    "\n",
    "There are many instances we would like to make accurate on-depth comparison between picks and other well data. This can be done inside log analysis software, but sometimes it is difficult to get all data onto a sensible scale. Python is useful for this."
   ]
  },
  {
   "cell_type": "code",
   "execution_count": 1,
   "metadata": {},
   "outputs": [
    {
     "ename": "NameError",
     "evalue": "name 'np' is not defined",
     "output_type": "error",
     "traceback": [
      "\u001b[1;31m---------------------------------------------------------------------------\u001b[0m",
      "\u001b[1;31mNameError\u001b[0m                                 Traceback (most recent call last)",
      "\u001b[1;32mc:\\Users\\Irene\\Dropbox (Personal)\\Cubic-Earth\\Projects\\Ormat\\REPO borehole-image-analysis-with-python\\3_Contexual analysis.ipynb Cell 4\u001b[0m line \u001b[0;36m6\n\u001b[0;32m      <a href='vscode-notebook-cell:/c%3A/Users/Irene/Dropbox%20%28Personal%29/Cubic-Earth/Projects/Ormat/REPO%20borehole-image-analysis-with-python/3_Contexual%20analysis.ipynb#W4sZmlsZQ%3D%3D?line=2'>3</a>\u001b[0m num_points \u001b[39m=\u001b[39m \u001b[39m1000\u001b[39m\n\u001b[0;32m      <a href='vscode-notebook-cell:/c%3A/Users/Irene/Dropbox%20%28Personal%29/Cubic-Earth/Projects/Ormat/REPO%20borehole-image-analysis-with-python/3_Contexual%20analysis.ipynb#W4sZmlsZQ%3D%3D?line=4'>5</a>\u001b[0m \u001b[39m# Generate evenly spaced 'x' values\u001b[39;00m\n\u001b[1;32m----> <a href='vscode-notebook-cell:/c%3A/Users/Irene/Dropbox%20%28Personal%29/Cubic-Earth/Projects/Ormat/REPO%20borehole-image-analysis-with-python/3_Contexual%20analysis.ipynb#W4sZmlsZQ%3D%3D?line=5'>6</a>\u001b[0m measurements \u001b[39m=\u001b[39m np\u001b[39m.\u001b[39mlinspace(\u001b[39m0\u001b[39m, \u001b[39m20\u001b[39m, num_points)\n\u001b[0;32m      <a href='vscode-notebook-cell:/c%3A/Users/Irene/Dropbox%20%28Personal%29/Cubic-Earth/Projects/Ormat/REPO%20borehole-image-analysis-with-python/3_Contexual%20analysis.ipynb#W4sZmlsZQ%3D%3D?line=7'>8</a>\u001b[0m \u001b[39m# Add small random noise to 'x' values\u001b[39;00m\n\u001b[0;32m      <a href='vscode-notebook-cell:/c%3A/Users/Irene/Dropbox%20%28Personal%29/Cubic-Earth/Projects/Ormat/REPO%20borehole-image-analysis-with-python/3_Contexual%20analysis.ipynb#W4sZmlsZQ%3D%3D?line=8'>9</a>\u001b[0m noise_scale \u001b[39m=\u001b[39m \u001b[39m5\u001b[39m \u001b[39m# Adjust the noise scale as needed\u001b[39;00m\n",
      "\u001b[1;31mNameError\u001b[0m: name 'np' is not defined"
     ]
    }
   ],
   "source": [
    "# make synthetic continuous data\n",
    "\n",
    "num_points = 1000\n",
    "\n",
    "# Generate evenly spaced 'x' values\n",
    "measurements = np.linspace(0, 20, num_points)\n",
    "\n",
    "# Add small random noise to 'x' values\n",
    "noise_scale = 5 # Adjust the noise scale as needed\n",
    "noise = np.random.normal(0, noise_scale, num_points)\n",
    "\n",
    "# Create the 'y' values\n",
    "measurement_depth_m = np.linspace(top_m, bot_m, num_points)\n",
    "\n",
    "# Add noise to 'x' values\n",
    "x_with_noise = measurements + noise"
   ]
  },
  {
   "cell_type": "code",
   "execution_count": null,
   "metadata": {},
   "outputs": [],
   "source": [
    "fig, (ax1, ax2) = plt.subplots(1, figsize=(5,7), sharey=True)\n",
    "\n",
    "ax1.scatter(fractures.aperture_mm.values, fractures.depth_m.values, s=10, c='k', marker='o')\n",
    "\n",
    "ax2.plot(x_with_noise, measurement_depth_m, c='k', lw=0.5)\n",
    "\n",
    "line_depth = 750\n",
    "for ax in [ax1, ax2]:\n",
    "    ax.axhline(line_depth, color='tab:red', lw=2)\n",
    "    ax.axhspan(line_depth, bot_m, color='tab:red', alpha=0.1)\n",
    "\n",
    "ax1.set_ylim(bot_m, top_m)\n",
    "ax1.set_ylabel('Depth [m-MDRF]')\n",
    "ax1.set_xlabel('Fracture aperture [mm]')\n",
    "\n",
    "ax2.set_xlabel('Synthetic data')"
   ]
  }
 ],
 "metadata": {
  "kernelspec": {
   "display_name": "bhi_env",
   "language": "python",
   "name": "python3"
  },
  "language_info": {
   "codemirror_mode": {
    "name": "ipython",
    "version": 3
   },
   "file_extension": ".py",
   "mimetype": "text/x-python",
   "name": "python",
   "nbconvert_exporter": "python",
   "pygments_lexer": "ipython3",
   "version": "3.9.18"
  },
  "orig_nbformat": 4
 },
 "nbformat": 4,
 "nbformat_minor": 2
}
