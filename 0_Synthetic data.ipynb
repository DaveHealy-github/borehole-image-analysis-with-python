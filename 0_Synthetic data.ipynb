{
 "cells": [
  {
   "cell_type": "markdown",
   "metadata": {},
   "source": [
    "# Attributing data can yeld insight \n",
    "\n",
    "Interpolate geology data onto the fractures\n",
    "Plot fractures on stereonet and by depth by geology"
   ]
  },
  {
   "cell_type": "code",
   "execution_count": 1,
   "metadata": {},
   "outputs": [],
   "source": [
    "import pandas as pd\n",
    "import numpy as np\n",
    "import matplotlib.pyplot as plt\n",
    "import mplstereonet as mps\n",
    "\n",
    "from utilities import *"
   ]
  },
  {
   "cell_type": "code",
   "execution_count": 3,
   "metadata": {},
   "outputs": [
    {
     "data": {
      "image/png": "[encoded data removed]",
      "text/plain": [
       "<Figure size 400x400 with 2 Axes>"
      ]
     },
     "metadata": {},
     "output_type": "display_data"
    }
   ],
   "source": [
    "strike_cluster1 = random_strikes(100, 90, 10) # n, mean, std_dev\n",
    "dip_cluster1 = random_dips(100, 65, 10)\n",
    "\n",
    "strike_cluster2 = random_strikes(100, 280, 10)\n",
    "dip_cluster2 = random_dips(100, 65, 10)\n",
    "\n",
    "strike_background = np.random.randint(0, 360, 50)\n",
    "dip_background = np.random.randint(0, 90, 50)\n",
    "\n",
    "strike_bedding1 = random_strikes(100, 170, 15)\n",
    "dip_bedding1 = random_dips(100, 15, 5)\n",
    "\n",
    "strike_bedding2 = random_strikes(100, 220, 30)\n",
    "dip_bedding2 = random_dips(100, 20, 15)\n",
    "\n",
    "fig = plt.figure(figsize=(4,4))\n",
    "ax = fig.add_subplot(111, projection='stereonet')\n",
    "\n",
    "for angle in range(0, 360, 10):\n",
    "    ax.grid(radial=True, azimuths=[angle], linestyle='--', lw=0.25, color='k', alpha=0.5)\n",
    "\n",
    "ax.pole(strike_cluster1, dip_cluster1, marker = 'o', color = 'tab:red', markersize=1)\n",
    "ax.pole(strike_cluster2, dip_cluster2, marker = 'o', color = 'tab:blue', markersize=1)\n",
    "ax.pole(strike_background, dip_background, marker = 'o', color = 'tab:orange', markersize=1)\n",
    "ax.pole(strike_bedding1, dip_bedding1, marker = 'o', color = 'tab:green', markersize=1)\n",
    "ax.pole(strike_bedding2, dip_bedding2, marker = 'o', color = 'tab:brown', markersize=1)\n",
    "\n",
    "ax.set_azimuth_ticks([])\n",
    "plt.show()"
   ]
  },
  {
   "cell_type": "code",
   "execution_count": null,
   "metadata": {},
   "outputs": [],
   "source": []
  },
  {
   "cell_type": "code",
   "execution_count": null,
   "metadata": {},
   "outputs": [],
   "source": []
  },
  {
   "cell_type": "code",
   "execution_count": null,
   "metadata": {},
   "outputs": [],
   "source": []
  },
  {
   "cell_type": "code",
   "execution_count": null,
   "metadata": {},
   "outputs": [],
   "source": [
    "# make data\n",
    "\n",
    "# make a list of 200 strikes with azimuths ranging between 0 and 360 with data clustered around three azimuths\n",
    "strike_background = np.random.randint(0,360,50)\n",
    "\n",
    "\n",
    "strike_cluster1 = np.random.normal(40,60,100)\n",
    "strike_cluster1 = np.random.normal(40,60,100)\n",
    "\n",
    "\n",
    "strike_cluster1 = np.random.randint(40,45,100)\n",
    "strike_cluster2 = np.random.randint(80,90,300)\n",
    "strike_cluster3 = np.random.randint(180,210,50)\n",
    "\n",
    "# add the four lists together\n",
    "strikes = np.concatenate((strike_background, strike_cluster1, strike_cluster2, strike_cluster3), axis=0)\n",
    "\n",
    "dip_background = np.random.randint(45,80,50)\n",
    "dip_cluster1 = np.random.randint(60,82,100)\n",
    "dip_cluster2 = np.random.randint(50,84,300)\n",
    "dip_cluster3 = np.random.randint(2,10,50)\n",
    "\n",
    "# add the four lists together\n",
    "dips = np.concatenate((dip_background, dip_cluster1, dip_cluster2, dip_cluster3), axis=0)\n",
    "\n",
    "# make depths data\n",
    "depth_background = np.random.randint(500,1000,50)\n",
    "depth_cluster1 = np.random.randint(500,600,100)\n",
    "depth_cluster2 = np.random.randint(700,1000,300)\n",
    "depth_cluster3 = np.random.randint(500,700,50)\n",
    "\n",
    "depths = np.concatenate((depth_background, depth_cluster1, depth_cluster2, depth_cluster3), axis=0)\n",
    "\n",
    "# make attribute data\n",
    "attribute_background = 50 * ['Conductive, low confidence']\n",
    "attribute_cluster1 = 100 * ['Conductive, high confidence']\n",
    "attribute_cluster2 = 300 * ['Conductive, high confidence']\n",
    "attribute_cluster3 = 50 * ['Bed boundary']\n",
    "\n",
    "attributes = np.concatenate((attribute_background, attribute_cluster1, attribute_cluster2, attribute_cluster3), axis=0)\n",
    "\n",
    "# make a dataframe\n",
    "picks = pd.DataFrame({'Strike': strikes, 'Dip': dips, 'Depth': depths, 'Attribute': attributes})\n",
    "\n",
    "# plot the strikes and dips on a stereonet\n",
    "fig = plt.figure(figsize=(4,4))\n",
    "ax = fig.add_subplot(111, projection='stereonet')\n",
    "\n",
    "beds = picks[picks['Attribute'] == 'Bed boundary']\n",
    "ax.pole(\n",
    "    beds.Strike.values, \n",
    "    beds.Dip.values, \n",
    "    marker='o',\n",
    "    color='tab:blue',\n",
    "    # add a black outline on the marker\n",
    "    markeredgecolor='k',\n",
    "    label='Bed boundary'\n",
    ")\n",
    "\n",
    "conductive_HC = picks[picks['Attribute'] == 'Conductive, high confidence']\n",
    "ax.pole(\n",
    "    conductive_HC.Strike.values, \n",
    "    conductive_HC.Dip.values, \n",
    "    marker='o',\n",
    "    color='tab:orange',\n",
    "    # add a black outline on the marker\n",
    "    markeredgecolor='k',\n",
    "    label='Conductive, high confidence'\n",
    ")\n",
    "\n",
    "conductive_LC = picks[picks['Attribute'] == 'Conductive, low confidence']\n",
    "ax.pole(\n",
    "    conductive_LC.Strike.values, \n",
    "    conductive_LC.Dip.values, \n",
    "    marker='o',\n",
    "    color='tab:orange',\n",
    "    # add a black outline on the marker\n",
    "    markeredgecolor='k',\n",
    "    label='Conductive, high confidence'\n",
    ")\n"
   ]
  },
  {
   "cell_type": "code",
   "execution_count": null,
   "metadata": {},
   "outputs": [],
   "source": [
    "conductive_HC"
   ]
  },
  {
   "cell_type": "code",
   "execution_count": null,
   "metadata": {},
   "outputs": [],
   "source": []
  },
  {
   "cell_type": "code",
   "execution_count": null,
   "metadata": {},
   "outputs": [],
   "source": [
    "\n",
    "# Define the mean and standard deviation of the normal distribution\n",
    "mean = 50  # Mean value\n",
    "std_dev = 10  # Standard deviation\n",
    "\n",
    "# Define the range for the generated integers\n",
    "lower_bound = 0\n",
    "upper_bound = 100\n",
    "\n",
    "# Generate random integers with a normal distribution\n",
    "random_integers = np.random.normal(mean, std_dev, size=1000)  # Adjust the size as needed\n",
    "\n",
    "# Clip the generated values to the specified range\n",
    "random_integers = np.clip(random_integers, lower_bound, upper_bound)\n",
    "\n",
    "# Convert the floating-point numbers to integers\n",
    "random_integers = random_integers.astype(int)\n",
    "\n",
    "# Print the first 10 generated integers (for example)\n",
    "print(random_integers[:10])\n"
   ]
  },
  {
   "cell_type": "code",
   "execution_count": null,
   "metadata": {},
   "outputs": [],
   "source": []
  }
 ],
 "metadata": {
  "kernelspec": {
   "display_name": "bhi_env",
   "language": "python",
   "name": "python3"
  },
  "language_info": {
   "codemirror_mode": {
    "name": "ipython",
    "version": 3
   },
   "file_extension": ".py",
   "mimetype": "text/x-python",
   "name": "python",
   "nbconvert_exporter": "python",
   "pygments_lexer": "ipython3",
   "version": "3.9.18"
  },
  "orig_nbformat": 4
 },
 "nbformat": 4,
 "nbformat_minor": 2
}
