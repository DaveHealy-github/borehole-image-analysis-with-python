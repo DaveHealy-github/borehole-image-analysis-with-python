{
 "cells": [
  {
   "cell_type": "markdown",
   "metadata": {},
   "source": [
    "# Attributing data can yeld insight \n",
    "\n",
    "Interpolate geology data onto the fractures\n",
    "Plot fractures on stereonet and by depth by geology"
   ]
  },
  {
   "cell_type": "code",
   "execution_count": 1,
   "metadata": {},
   "outputs": [],
   "source": [
    "import pandas as pd\n",
    "import numpy as np\n",
    "import matplotlib.pyplot as plt\n",
    "import mplstereonet as mps\n",
    "\n",
    "from utilities import *"
   ]
  },
  {
   "cell_type": "code",
   "execution_count": null,
   "metadata": {},
   "outputs": [],
   "source": [
    "strike_cluster1 = random_strikes(100, 90, 10) # n, mean, std_dev\n",
    "dip_cluster1 = random_dips(100, 65, 10)\n",
    "depth_cluster1 = random_depths(100, 750, 100, 500, 1000) # n, mean, std_dev, lower_bound, upper_bound\n",
    "attribute_cluster1 = 100 * ['Conductive, HC']\n",
    "\n",
    "strike_cluster2 = random_strikes(100, 280, 10)\n",
    "dip_cluster2 = random_dips(100, 65, 10)\n",
    "depth_cluster2 = random_depths(100, 900, 50, 500, 1000)\n",
    "attribute_cluster2 = 100 * ['Conductive, HC']\n",
    "\n",
    "strike_background = np.random.randint(0, 360, 50)\n",
    "dip_background = np.random.randint(0, 90, 50)\n",
    "depth_background = random_depths(100, 750, 250, 500, 1000)\n",
    "attribute_background = 100 * ['Conductive, LC']\n",
    "\n",
    "strike_bedding1 = random_strikes(100, 170, 15)\n",
    "dip_bedding1 = random_dips(100, 15, 5)\n",
    "depth_bedding1 = random_depths(100, 600, 100, 500, 750)\n",
    "attribute_bedding1 = 100 * ['Bed boundary']\n",
    "\n",
    "strike_bedding2 = random_strikes(100, 220, 30)\n",
    "dip_bedding2 = random_dips(100, 20, 15)\n",
    "depth_bedding2 = random_depths(100, 800, 100, 750, 1000)\n",
    "attribute_bedding2 = 100 * ['Bed boundary']\n",
    "\n"
   ]
  },
  {
   "cell_type": "code",
   "execution_count": null,
   "metadata": {},
   "outputs": [],
   "source": [
    "fig = plt.figure(figsize=(4,4))\n",
    "ax = fig.add_subplot(111, projection='stereonet')\n",
    "\n",
    "ax.pole(strike_cluster1, dip_cluster1, marker = 'o', color = 'tab:red', markersize=1)\n",
    "ax.pole(strike_cluster2, dip_cluster2, marker = 'o', color = 'tab:blue', markersize=1)\n",
    "ax.pole(strike_background, dip_background, marker = 'o', color = 'tab:orange', markersize=1)\n",
    "ax.pole(strike_bedding1, dip_bedding1, marker = 'o', color = 'tab:green', markersize=1)\n",
    "ax.pole(strike_bedding2, dip_bedding2, marker = 'o', color = 'tab:brown', markersize=1)\n",
    "\n",
    "\n",
    "ax.grid(\n",
    "    kind=\"polar\", # Bug here that needs resolving\n",
    "    zorder = 1, \n",
    "    alpha = 0.2\n",
    ")\n",
    "\n",
    "ax.set_azimuth_ticks([])\n",
    "plt.show()"
   ]
  },
  {
   "cell_type": "code",
   "execution_count": null,
   "metadata": {},
   "outputs": [],
   "source": [
    "fig, ax = plt.subplots(figsize=(4,4))\n",
    "ax.hist(depth_cluster1, bins=36, color = 'tab:red', alpha = 0.5)\n",
    "\n",
    "ax.set_xlabel('Depth (m)')\n",
    "ax.set_ylabel('Frequency')\n",
    "plt.show()"
   ]
  },
  {
   "cell_type": "code",
   "execution_count": null,
   "metadata": {},
   "outputs": [],
   "source": [
    "# make a set of five histograms using plt.subplots and defining explicitly the axes\n",
    "\n",
    "fig, axes = plt.subplots(nrows=1, ncols=5, figsize=(12, 4), sharey=True)\n",
    "\n",
    "axes[0].hist(depth_cluster1, bins=36, color = 'tab:red', alpha = 0.5)\n",
    "axes[1].hist(depth_cluster2, bins=36, color = 'tab:blue', alpha = 0.5)\n",
    "axes[2].hist(depth_background, bins=36, color = 'tab:orange', alpha = 0.5)\n",
    "axes[3].hist(depth_bedding1, bins=36, color = 'tab:green', alpha = 0.5)\n",
    "axes[4].hist(depth_bedding2, bins=36, color = 'tab:brown', alpha = 0.5)\n",
    "\n",
    "for ax in axes:\n",
    "    ax.set_xlabel('Depth (m)')\n",
    "\n",
    "axes[0].set_ylabel('Frequency')"
   ]
  }
 ],
 "metadata": {
  "kernelspec": {
   "display_name": "bhi_env",
   "language": "python",
   "name": "python3"
  },
  "language_info": {
   "codemirror_mode": {
    "name": "ipython",
    "version": 3
   },
   "file_extension": ".py",
   "mimetype": "text/x-python",
   "name": "python",
   "nbconvert_exporter": "python",
   "pygments_lexer": "ipython3",
   "version": "3.9.18"
  },
  "orig_nbformat": 4
 },
 "nbformat": 4,
 "nbformat_minor": 2
}
