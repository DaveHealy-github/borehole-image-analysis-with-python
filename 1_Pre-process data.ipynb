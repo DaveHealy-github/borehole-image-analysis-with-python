{
 "cells": [
  {
   "cell_type": "markdown",
   "metadata": {},
   "source": [
    "# Pre-process data\n",
    "\n",
    "Data will often require some pre-processing for analysis. Here we calculate strike, append lithology data, and calculate depth in ft."
   ]
  },
  {
   "cell_type": "code",
   "execution_count": 24,
   "metadata": {},
   "outputs": [],
   "source": [
    "from fractoolbox import dip2strike\n",
    "import pandas as pd"
   ]
  },
  {
   "cell_type": "markdown",
   "metadata": {},
   "source": [
    "## 1. Calculate strike from dip azimuth\n",
    "\n",
    "Exports from log analysis software typically do not contain strike, only dip and dip azimuth. \n",
    "\n",
    "The following code calculates strike from dip azimuth using the right hand rule."
   ]
  },
  {
   "cell_type": "code",
   "execution_count": 25,
   "metadata": {},
   "outputs": [
    {
     "name": "stdout",
     "output_type": "stream",
     "text": [
      "<class 'pandas.core.frame.DataFrame'>\n",
      "RangeIndex: 450 entries, 0 to 449\n",
      "Data columns (total 5 columns):\n",
      " #   Column       Non-Null Count  Dtype  \n",
      "---  ------       --------------  -----  \n",
      " 0   depth_m      450 non-null    float64\n",
      " 1   dip_az       450 non-null    float64\n",
      " 2   dip          450 non-null    float64\n",
      " 3   aperture_mm  450 non-null    float64\n",
      " 4   attribute    450 non-null    object \n",
      "dtypes: float64(4), object(1)\n",
      "memory usage: 17.7+ KB\n"
     ]
    }
   ],
   "source": [
    "picks = pd.read_csv('0_Synthetic_data.csv')\n",
    "picks.info()"
   ]
  },
  {
   "cell_type": "code",
   "execution_count": 26,
   "metadata": {},
   "outputs": [],
   "source": [
    "strike = []\n",
    "\n",
    "for dipaz in picks.dip_az:\n",
    "    strike.append(dip2strike(dipaz))\n",
    "\n",
    "picks['strike'] = strike"
   ]
  },
  {
   "cell_type": "markdown",
   "metadata": {},
   "source": [
    "## 2. Append lithology type to data\n",
    "\n",
    "Contextual data can inform our analysis. We can append lithology (and other from - to data) as attributes to the picks."
   ]
  },
  {
   "cell_type": "code",
   "execution_count": 27,
   "metadata": {},
   "outputs": [
    {
     "data": {
      "text/html": [
       "<div>\n",
       "<style scoped>\n",
       "    .dataframe tbody tr th:only-of-type {\n",
       "        vertical-align: middle;\n",
       "    }\n",
       "\n",
       "    .dataframe tbody tr th {\n",
       "        vertical-align: top;\n",
       "    }\n",
       "\n",
       "    .dataframe thead th {\n",
       "        text-align: right;\n",
       "    }\n",
       "</style>\n",
       "<table border=\"1\" class=\"dataframe\">\n",
       "  <thead>\n",
       "    <tr style=\"text-align: right;\">\n",
       "      <th></th>\n",
       "      <th>from_m</th>\n",
       "      <th>to_m</th>\n",
       "      <th>lithology</th>\n",
       "    </tr>\n",
       "  </thead>\n",
       "  <tbody>\n",
       "    <tr>\n",
       "      <th>0</th>\n",
       "      <td>500</td>\n",
       "      <td>750</td>\n",
       "      <td>Rock A</td>\n",
       "    </tr>\n",
       "    <tr>\n",
       "      <th>1</th>\n",
       "      <td>750</td>\n",
       "      <td>1000</td>\n",
       "      <td>Rock B</td>\n",
       "    </tr>\n",
       "  </tbody>\n",
       "</table>\n",
       "</div>"
      ],
      "text/plain": [
       "   from_m  to_m lithology\n",
       "0     500   750    Rock A\n",
       "1     750  1000    Rock B"
      ]
     },
     "execution_count": 27,
     "metadata": {},
     "output_type": "execute_result"
    }
   ],
   "source": [
    "# make synthetic data\n",
    "\n",
    "data = {\n",
    "    'from_m': [500, 750], \n",
    "    'to_m': [750, 1000], \n",
    "    'lithology': ['Rock A', \n",
    "                 'Rock B'],\n",
    "}\n",
    "\n",
    "mudlog = pd.DataFrame(data=data)\n",
    "mudlog"
   ]
  },
  {
   "cell_type": "markdown",
   "metadata": {},
   "source": [
    "The method provided here allows for repeated values in the lithology column by allocating a code to each depth interval. \n",
    "\n",
    "There are simpler approaches that can be used if the lithology column does not contain repeated values.\n",
    "\n",
    "This method can be adapted for any from-to categorical data."
   ]
  },
  {
   "cell_type": "code",
   "execution_count": 28,
   "metadata": {},
   "outputs": [],
   "source": [
    "# number the mudlog DataFrame rows from 0 to n\n",
    "mudlog['lith_num'] = range(len(mudlog))\n",
    "\n",
    "# call the unit tops to a list\n",
    "depth_bins = mudlog['from_m'].to_list()\n",
    "\n",
    "# append the deepest value to the bins list\n",
    "depth_bins.append(mudlog['to_m'].iloc[-1])\n",
    "\n",
    "# make a list containing the unique codes\n",
    "lith_num_label = mudlog['lith_num'].to_list()\n",
    "\n",
    "# append lithology numbers to the picks DataFrame based on depth\n",
    "picks['lithology'] = pd.cut(\n",
    "    picks.depth_m,\n",
    "    bins=depth_bins, \n",
    "    labels = lith_num_label\n",
    "    )\n",
    "\n",
    "# turn mudlog['lith_num'] and mudlog['lithology'] columns into a dictionary, with the lith_num as the key\n",
    "lith_dict = dict(zip(mudlog['lith_num'], mudlog['lithology']))\n",
    "\n",
    "# replace the lithology number with the lithology name using the dictionary above\n",
    "picks.lithology.replace(lith_dict, inplace=True)"
   ]
  },
  {
   "cell_type": "markdown",
   "metadata": {},
   "source": [
    "## 3. Calculate pick depth in ft"
   ]
  },
  {
   "cell_type": "code",
   "execution_count": 29,
   "metadata": {},
   "outputs": [],
   "source": [
    "picks['depth_ft'] = round(picks.depth_m / 3.281, 2) # rounded to 2 decimal places"
   ]
  },
  {
   "cell_type": "markdown",
   "metadata": {},
   "source": [
    "## 4. Export processed data for use elsewhere"
   ]
  },
  {
   "cell_type": "code",
   "execution_count": 30,
   "metadata": {},
   "outputs": [],
   "source": [
    "picks.to_csv('1_Pre-processed data.csv', index=False)"
   ]
  },
  {
   "cell_type": "code",
   "execution_count": null,
   "metadata": {},
   "outputs": [],
   "source": []
  },
  {
   "cell_type": "code",
   "execution_count": null,
   "metadata": {},
   "outputs": [],
   "source": []
  }
 ],
 "metadata": {
  "kernelspec": {
   "display_name": "bhi_env",
   "language": "python",
   "name": "python3"
  },
  "language_info": {
   "codemirror_mode": {
    "name": "ipython",
    "version": 3
   },
   "file_extension": ".py",
   "mimetype": "text/x-python",
   "name": "python",
   "nbconvert_exporter": "python",
   "pygments_lexer": "ipython3",
   "version": "3.9.18"
  },
  "orig_nbformat": 4
 },
 "nbformat": 4,
 "nbformat_minor": 2
}
